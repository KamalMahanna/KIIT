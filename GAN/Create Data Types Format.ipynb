{
 "cells": [
  {
   "cell_type": "code",
   "execution_count": 1,
   "id": "777d66e6",
   "metadata": {},
   "outputs": [],
   "source": [
    "import pandas as pd\n",
    "import numpy as np"
   ]
  },
  {
   "cell_type": "code",
   "execution_count": 2,
   "id": "57f86456",
   "metadata": {},
   "outputs": [],
   "source": [
    "new_data = {\n",
    "    'EmployeeID': np.arange(4,14),\n",
    "    'Name': ['David', 'Eva', 'Frank', 'Grace', 'Hannah', 'Isabella', 'Jack', 'Kathy', 'Liam', 'Mia'],\n",
    "    'Department' : ['Software','Data Scientist', 'Product Manager','UX Designer','Data Analyst']*2,\n",
    "    'Salary' : np.random.randint(60000, 120000, size=10)\n",
    "}"
   ]
  },
  {
   "cell_type": "code",
   "execution_count": 3,
   "id": "42c72693",
   "metadata": {},
   "outputs": [],
   "source": [
    "df = pd.DataFrame(new_data)"
   ]
  },
  {
   "cell_type": "code",
   "execution_count": 4,
   "id": "2b0c14fc",
   "metadata": {},
   "outputs": [
    {
     "data": {
      "text/html": [
       "<div>\n",
       "<style scoped>\n",
       "    .dataframe tbody tr th:only-of-type {\n",
       "        vertical-align: middle;\n",
       "    }\n",
       "\n",
       "    .dataframe tbody tr th {\n",
       "        vertical-align: top;\n",
       "    }\n",
       "\n",
       "    .dataframe thead th {\n",
       "        text-align: right;\n",
       "    }\n",
       "</style>\n",
       "<table border=\"1\" class=\"dataframe\">\n",
       "  <thead>\n",
       "    <tr style=\"text-align: right;\">\n",
       "      <th></th>\n",
       "      <th>EmployeeID</th>\n",
       "      <th>Name</th>\n",
       "      <th>Department</th>\n",
       "      <th>Salary</th>\n",
       "    </tr>\n",
       "  </thead>\n",
       "  <tbody>\n",
       "    <tr>\n",
       "      <th>0</th>\n",
       "      <td>4</td>\n",
       "      <td>David</td>\n",
       "      <td>Software</td>\n",
       "      <td>72938</td>\n",
       "    </tr>\n",
       "    <tr>\n",
       "      <th>1</th>\n",
       "      <td>5</td>\n",
       "      <td>Eva</td>\n",
       "      <td>Data Scientist</td>\n",
       "      <td>110274</td>\n",
       "    </tr>\n",
       "    <tr>\n",
       "      <th>2</th>\n",
       "      <td>6</td>\n",
       "      <td>Frank</td>\n",
       "      <td>Product Manager</td>\n",
       "      <td>114521</td>\n",
       "    </tr>\n",
       "    <tr>\n",
       "      <th>3</th>\n",
       "      <td>7</td>\n",
       "      <td>Grace</td>\n",
       "      <td>UX Designer</td>\n",
       "      <td>84322</td>\n",
       "    </tr>\n",
       "    <tr>\n",
       "      <th>4</th>\n",
       "      <td>8</td>\n",
       "      <td>Hannah</td>\n",
       "      <td>Data Analyst</td>\n",
       "      <td>115199</td>\n",
       "    </tr>\n",
       "    <tr>\n",
       "      <th>5</th>\n",
       "      <td>9</td>\n",
       "      <td>Isabella</td>\n",
       "      <td>Software</td>\n",
       "      <td>70266</td>\n",
       "    </tr>\n",
       "    <tr>\n",
       "      <th>6</th>\n",
       "      <td>10</td>\n",
       "      <td>Jack</td>\n",
       "      <td>Data Scientist</td>\n",
       "      <td>102197</td>\n",
       "    </tr>\n",
       "    <tr>\n",
       "      <th>7</th>\n",
       "      <td>11</td>\n",
       "      <td>Kathy</td>\n",
       "      <td>Product Manager</td>\n",
       "      <td>105499</td>\n",
       "    </tr>\n",
       "    <tr>\n",
       "      <th>8</th>\n",
       "      <td>12</td>\n",
       "      <td>Liam</td>\n",
       "      <td>UX Designer</td>\n",
       "      <td>119608</td>\n",
       "    </tr>\n",
       "    <tr>\n",
       "      <th>9</th>\n",
       "      <td>13</td>\n",
       "      <td>Mia</td>\n",
       "      <td>Data Analyst</td>\n",
       "      <td>81352</td>\n",
       "    </tr>\n",
       "  </tbody>\n",
       "</table>\n",
       "</div>"
      ],
      "text/plain": [
       "   EmployeeID      Name       Department  Salary\n",
       "0           4     David         Software   72938\n",
       "1           5       Eva   Data Scientist  110274\n",
       "2           6     Frank  Product Manager  114521\n",
       "3           7     Grace      UX Designer   84322\n",
       "4           8    Hannah     Data Analyst  115199\n",
       "5           9  Isabella         Software   70266\n",
       "6          10      Jack   Data Scientist  102197\n",
       "7          11     Kathy  Product Manager  105499\n",
       "8          12      Liam      UX Designer  119608\n",
       "9          13       Mia     Data Analyst   81352"
      ]
     },
     "execution_count": 4,
     "metadata": {},
     "output_type": "execute_result"
    }
   ],
   "source": [
    "df"
   ]
  },
  {
   "cell_type": "code",
   "execution_count": 5,
   "id": "cbdd0703",
   "metadata": {},
   "outputs": [],
   "source": [
    "df.to_csv('employees.csv', index=False)"
   ]
  },
  {
   "cell_type": "code",
   "execution_count": 6,
   "id": "44314d40",
   "metadata": {},
   "outputs": [],
   "source": [
    "df.to_json('employees.json', orient='records', lines=True)"
   ]
  },
  {
   "cell_type": "code",
   "execution_count": 7,
   "id": "ac443b3b",
   "metadata": {},
   "outputs": [
    {
     "name": "stderr",
     "output_type": "stream",
     "text": [
      "\u001b[2mAudited \u001b[1m1 package\u001b[0m \u001b[2min 6ms\u001b[0m\u001b[0m\n"
     ]
    }
   ],
   "source": [
    "!uv pip install fastavro"
   ]
  },
  {
   "cell_type": "markdown",
   "id": "46f0658d",
   "metadata": {},
   "source": [
    "for schema data"
   ]
  },
  {
   "cell_type": "code",
   "execution_count": 8,
   "id": "019868ec",
   "metadata": {},
   "outputs": [],
   "source": [
    "import fastavro\n",
    "from fastavro.schema import load_schema"
   ]
  },
  {
   "cell_type": "code",
   "execution_count": 9,
   "id": "db02a7fd",
   "metadata": {},
   "outputs": [],
   "source": [
    "schema = {\n",
    "    \"type\": \"record\",\n",
    "    \"name\": \"Employee\",\n",
    "    \"fields\": [\n",
    "        {\"name\": \"EmployeeID\", \"type\": \"int\"},\n",
    "        {\"name\": \"Name\", \"type\": \"string\"},\n",
    "        {\"name\": \"Department\", \"type\": \"string\"},\n",
    "        {\"name\": \"Salary\", \"type\": \"int\"}\n",
    "    ]\n",
    "}"
   ]
  },
  {
   "cell_type": "code",
   "execution_count": 10,
   "id": "ad1f00b0",
   "metadata": {},
   "outputs": [],
   "source": [
    "records = df.to_dict(orient='records')"
   ]
  },
  {
   "cell_type": "code",
   "execution_count": 11,
   "id": "caa0418d",
   "metadata": {},
   "outputs": [],
   "source": [
    "with open('employees.avro', 'wb') as out:\n",
    "    writer = fastavro.writer(out, schema, records)"
   ]
  },
  {
   "cell_type": "code",
   "execution_count": 12,
   "id": "5349114e",
   "metadata": {},
   "outputs": [
    {
     "name": "stderr",
     "output_type": "stream",
     "text": [
      "\u001b[2mAudited \u001b[1m1 package\u001b[0m \u001b[2min 7ms\u001b[0m\u001b[0m\n"
     ]
    }
   ],
   "source": [
    "!uv pip install pyarrow"
   ]
  },
  {
   "cell_type": "code",
   "execution_count": 13,
   "id": "57beeef4",
   "metadata": {},
   "outputs": [],
   "source": [
    "df.to_parquet('employees.parquet', index=False)"
   ]
  },
  {
   "cell_type": "code",
   "execution_count": 14,
   "id": "bc5eaad9",
   "metadata": {},
   "outputs": [
    {
     "name": "stderr",
     "output_type": "stream",
     "text": [
      "\u001b[2mAudited \u001b[1m1 package\u001b[0m \u001b[2min 6ms\u001b[0m\u001b[0m\n"
     ]
    }
   ],
   "source": [
    "! uv pip install xmltodict "
   ]
  },
  {
   "cell_type": "code",
   "execution_count": 15,
   "id": "0bc1e408",
   "metadata": {},
   "outputs": [
    {
     "data": {
      "text/plain": [
       "Index(['EmployeeID', 'Name', 'Department', 'Salary'], dtype='object')"
      ]
     },
     "execution_count": 15,
     "metadata": {},
     "output_type": "execute_result"
    }
   ],
   "source": [
    "df.columns"
   ]
  },
  {
   "cell_type": "code",
   "execution_count": 16,
   "id": "d0e2ddc8",
   "metadata": {},
   "outputs": [],
   "source": [
    "import xml.etree.ElementTree as ET\n",
    "\n",
    "def df_to_xml(df, filename):\n",
    "    root = ET.Element(\"Employees\")\n",
    "    for _, row in df.iterrows():\n",
    "        employee = ET.SubElement(root, \"Employees\")\n",
    "        for field in df.columns:\n",
    "            child = ET.SubElement(employee, field)\n",
    "            child.text = str(row[field])\n",
    "        tree  = ET.ElementTree(root)\n",
    "        tree.write(filename)\n",
    "df_to_xml(df, 'employees.xml')"
   ]
  },
  {
   "cell_type": "code",
   "execution_count": 19,
   "id": "aa17317c",
   "metadata": {},
   "outputs": [
    {
     "name": "stderr",
     "output_type": "stream",
     "text": [
      "\u001b[2mResolved \u001b[1m16 packages\u001b[0m \u001b[2min 2.09s\u001b[0m\u001b[0m\n",
      "\u001b[36m\u001b[1mDownloading\u001b[0m\u001b[39m tables \u001b[2m(6.1MiB)\u001b[0m\n",
      "\u001b[36m\u001b[1mDownloading\u001b[0m\u001b[39m blosc2 \u001b[2m(2.2MiB)\u001b[0m\n",
      " \u001b[32m\u001b[1mDownloading\u001b[0m\u001b[39m tables\n",
      " \u001b[32m\u001b[1mDownloading\u001b[0m\u001b[39m blosc2\n",
      "\u001b[2mPrepared \u001b[1m6 packages\u001b[0m \u001b[2min 1.53s\u001b[0m\u001b[0m\n",
      "\u001b[2mInstalled \u001b[1m6 packages\u001b[0m \u001b[2min 75ms\u001b[0m\u001b[0m\n",
      " \u001b[32m+\u001b[39m \u001b[1mblosc2\u001b[0m\u001b[2m==3.10.0\u001b[0m\n",
      " \u001b[32m+\u001b[39m \u001b[1mmsgpack\u001b[0m\u001b[2m==1.1.2\u001b[0m\n",
      " \u001b[32m+\u001b[39m \u001b[1mndindex\u001b[0m\u001b[2m==1.10.0\u001b[0m\n",
      " \u001b[32m+\u001b[39m \u001b[1mnumexpr\u001b[0m\u001b[2m==2.13.1\u001b[0m\n",
      " \u001b[32m+\u001b[39m \u001b[1mpy-cpuinfo\u001b[0m\u001b[2m==9.0.0\u001b[0m\n",
      " \u001b[32m+\u001b[39m \u001b[1mtables\u001b[0m\u001b[2m==3.10.2\u001b[0m\n"
     ]
    }
   ],
   "source": [
    "!uv pip install h5py tables"
   ]
  },
  {
   "cell_type": "code",
   "execution_count": 20,
   "id": "fea8f0e4",
   "metadata": {},
   "outputs": [],
   "source": [
    "df.to_hdf('employees.h5', key='df', mode='w')"
   ]
  },
  {
   "cell_type": "code",
   "execution_count": null,
   "id": "1a62c139",
   "metadata": {},
   "outputs": [],
   "source": []
  },
  {
   "cell_type": "code",
   "execution_count": null,
   "id": "f03683ca",
   "metadata": {},
   "outputs": [],
   "source": []
  },
  {
   "cell_type": "code",
   "execution_count": null,
   "id": "bf028d20",
   "metadata": {},
   "outputs": [],
   "source": []
  },
  {
   "cell_type": "code",
   "execution_count": null,
   "id": "20c9b273",
   "metadata": {},
   "outputs": [],
   "source": []
  },
  {
   "cell_type": "code",
   "execution_count": null,
   "id": "737588df",
   "metadata": {},
   "outputs": [],
   "source": []
  },
  {
   "cell_type": "code",
   "execution_count": null,
   "id": "7aa94e9d",
   "metadata": {},
   "outputs": [],
   "source": []
  }
 ],
 "metadata": {
  "kernelspec": {
   "display_name": "GAN",
   "language": "python",
   "name": "python3"
  },
  "language_info": {
   "codemirror_mode": {
    "name": "ipython",
    "version": 3
   },
   "file_extension": ".py",
   "mimetype": "text/x-python",
   "name": "python",
   "nbconvert_exporter": "python",
   "pygments_lexer": "ipython3",
   "version": "3.13.8"
  }
 },
 "nbformat": 4,
 "nbformat_minor": 5
}
