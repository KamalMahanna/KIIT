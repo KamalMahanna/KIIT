{
 "cells": [
  {
   "cell_type": "code",
   "execution_count": 1,
   "id": "8c7c64c8",
   "metadata": {},
   "outputs": [],
   "source": [
    "import pandas as pd\n",
    "import numpy as np\n",
    "import matplotlib.pyplot as plt\n",
    "import seaborn as sns\n",
    "import plotly.graph_objects as go\n",
    "import re"
   ]
  },
  {
   "cell_type": "code",
   "execution_count": 2,
   "metadata": {},
   "outputs": [],
   "source": [
    "df=pd.read_csv(r\"dataSets\\Bengaluru_House_Data.csv\")"
   ]
  },
  {
   "cell_type": "code",
   "execution_count": 3,
   "metadata": {},
   "outputs": [
    {
     "data": {
      "text/html": [
       "<div>\n",
       "<style scoped>\n",
       "    .dataframe tbody tr th:only-of-type {\n",
       "        vertical-align: middle;\n",
       "    }\n",
       "\n",
       "    .dataframe tbody tr th {\n",
       "        vertical-align: top;\n",
       "    }\n",
       "\n",
       "    .dataframe thead th {\n",
       "        text-align: right;\n",
       "    }\n",
       "</style>\n",
       "<table border=\"1\" class=\"dataframe\">\n",
       "  <thead>\n",
       "    <tr style=\"text-align: right;\">\n",
       "      <th></th>\n",
       "      <th>area_type</th>\n",
       "      <th>availability</th>\n",
       "      <th>location</th>\n",
       "      <th>size</th>\n",
       "      <th>society</th>\n",
       "      <th>total_sqft</th>\n",
       "      <th>bath</th>\n",
       "      <th>balcony</th>\n",
       "      <th>price</th>\n",
       "    </tr>\n",
       "  </thead>\n",
       "  <tbody>\n",
       "    <tr>\n",
       "      <th>0</th>\n",
       "      <td>Super built-up  Area</td>\n",
       "      <td>19-Dec</td>\n",
       "      <td>Electronic City Phase II</td>\n",
       "      <td>2 BHK</td>\n",
       "      <td>Coomee</td>\n",
       "      <td>1056</td>\n",
       "      <td>2.0</td>\n",
       "      <td>1.0</td>\n",
       "      <td>39.07</td>\n",
       "    </tr>\n",
       "    <tr>\n",
       "      <th>1</th>\n",
       "      <td>Plot  Area</td>\n",
       "      <td>Ready To Move</td>\n",
       "      <td>Chikka Tirupathi</td>\n",
       "      <td>4 Bedroom</td>\n",
       "      <td>Theanmp</td>\n",
       "      <td>2600</td>\n",
       "      <td>5.0</td>\n",
       "      <td>3.0</td>\n",
       "      <td>120.00</td>\n",
       "    </tr>\n",
       "    <tr>\n",
       "      <th>2</th>\n",
       "      <td>Built-up  Area</td>\n",
       "      <td>Ready To Move</td>\n",
       "      <td>Uttarahalli</td>\n",
       "      <td>3 BHK</td>\n",
       "      <td>NaN</td>\n",
       "      <td>1440</td>\n",
       "      <td>2.0</td>\n",
       "      <td>3.0</td>\n",
       "      <td>62.00</td>\n",
       "    </tr>\n",
       "    <tr>\n",
       "      <th>3</th>\n",
       "      <td>Super built-up  Area</td>\n",
       "      <td>Ready To Move</td>\n",
       "      <td>Lingadheeranahalli</td>\n",
       "      <td>3 BHK</td>\n",
       "      <td>Soiewre</td>\n",
       "      <td>1521</td>\n",
       "      <td>3.0</td>\n",
       "      <td>1.0</td>\n",
       "      <td>95.00</td>\n",
       "    </tr>\n",
       "    <tr>\n",
       "      <th>4</th>\n",
       "      <td>Super built-up  Area</td>\n",
       "      <td>Ready To Move</td>\n",
       "      <td>Kothanur</td>\n",
       "      <td>2 BHK</td>\n",
       "      <td>NaN</td>\n",
       "      <td>1200</td>\n",
       "      <td>2.0</td>\n",
       "      <td>1.0</td>\n",
       "      <td>51.00</td>\n",
       "    </tr>\n",
       "  </tbody>\n",
       "</table>\n",
       "</div>"
      ],
      "text/plain": [
       "              area_type   availability                  location       size  \\\n",
       "0  Super built-up  Area         19-Dec  Electronic City Phase II      2 BHK   \n",
       "1            Plot  Area  Ready To Move          Chikka Tirupathi  4 Bedroom   \n",
       "2        Built-up  Area  Ready To Move               Uttarahalli      3 BHK   \n",
       "3  Super built-up  Area  Ready To Move        Lingadheeranahalli      3 BHK   \n",
       "4  Super built-up  Area  Ready To Move                  Kothanur      2 BHK   \n",
       "\n",
       "   society total_sqft  bath  balcony   price  \n",
       "0  Coomee        1056   2.0      1.0   39.07  \n",
       "1  Theanmp       2600   5.0      3.0  120.00  \n",
       "2      NaN       1440   2.0      3.0   62.00  \n",
       "3  Soiewre       1521   3.0      1.0   95.00  \n",
       "4      NaN       1200   2.0      1.0   51.00  "
      ]
     },
     "execution_count": 3,
     "metadata": {},
     "output_type": "execute_result"
    }
   ],
   "source": [
    "df.head()"
   ]
  },
  {
   "cell_type": "code",
   "execution_count": 4,
   "id": "6a33d18a",
   "metadata": {},
   "outputs": [
    {
     "data": {
      "text/plain": [
       "(13320, 9)"
      ]
     },
     "execution_count": 4,
     "metadata": {},
     "output_type": "execute_result"
    }
   ],
   "source": [
    "df.shape"
   ]
  },
  {
   "cell_type": "markdown",
   "id": "43b98503",
   "metadata": {},
   "source": [
    "### Understanding The Data"
   ]
  },
  {
   "cell_type": "markdown",
   "id": "ee834d56",
   "metadata": {},
   "source": [
    "**`area_type`**"
   ]
  },
  {
   "cell_type": "code",
   "execution_count": 5,
   "metadata": {},
   "outputs": [
    {
     "data": {
      "text/plain": [
       "area_type\n",
       "Super built-up  Area    8790\n",
       "Built-up  Area          2418\n",
       "Plot  Area              2025\n",
       "Carpet  Area              87\n",
       "Name: count, dtype: int64"
      ]
     },
     "execution_count": 5,
     "metadata": {},
     "output_type": "execute_result"
    }
   ],
   "source": [
    "df['area_type'].value_counts()"
   ]
  },
  {
   "cell_type": "code",
   "execution_count": 6,
   "id": "d1d04eab",
   "metadata": {},
   "outputs": [
    {
     "data": {
      "text/plain": [
       "dtype('O')"
      ]
     },
     "execution_count": 6,
     "metadata": {},
     "output_type": "execute_result"
    }
   ],
   "source": [
    "df['total_sqft'].dtype"
   ]
  },
  {
   "cell_type": "code",
   "execution_count": 7,
   "id": "9b6564b8",
   "metadata": {},
   "outputs": [
    {
     "data": {
      "text/plain": [
       "np.int64(0)"
      ]
     },
     "execution_count": 7,
     "metadata": {},
     "output_type": "execute_result"
    }
   ],
   "source": [
    "df['total_sqft'].isnull().sum()"
   ]
  },
  {
   "cell_type": "markdown",
   "id": "dbdd6a55",
   "metadata": {},
   "source": [
    "No null values in 'total_sqft' column"
   ]
  },
  {
   "cell_type": "markdown",
   "id": "a798d5bd",
   "metadata": {},
   "source": [
    "Since area_type directly related to area of the house/plot. We will plot area with area_type to get the idea how they are differnt. Luckily we have \"total_sqft\" column which gives the area."
   ]
  },
  {
   "cell_type": "code",
   "execution_count": 8,
   "id": "05c9c8a4",
   "metadata": {},
   "outputs": [
    {
     "data": {
      "text/plain": [
       "0    1056\n",
       "1    2600\n",
       "2    1440\n",
       "3    1521\n",
       "4    1200\n",
       "Name: total_sqft, dtype: object"
      ]
     },
     "execution_count": 8,
     "metadata": {},
     "output_type": "execute_result"
    }
   ],
   "source": [
    "df['total_sqft'].head()"
   ]
  },
  {
   "cell_type": "code",
   "execution_count": 9,
   "id": "ce58683f",
   "metadata": {},
   "outputs": [
    {
     "data": {
      "text/plain": [
       "dtype('O')"
      ]
     },
     "execution_count": 9,
     "metadata": {},
     "output_type": "execute_result"
    }
   ],
   "source": [
    "df['total_sqft'].dtype"
   ]
  },
  {
   "cell_type": "markdown",
   "id": "cd7612e4",
   "metadata": {},
   "source": [
    "Area must be a numeric datatype, but here it is object type. Also converting it to float gives `ValueError: could not convert string to float: '2100 - 2850'`.\n",
    "So there must some values with a range. Checking how many of them.\n"
   ]
  },
  {
   "cell_type": "code",
   "execution_count": 11,
   "id": "550e2a27",
   "metadata": {},
   "outputs": [
    {
     "data": {
      "text/plain": [
       "np.int64(201)"
      ]
     },
     "execution_count": 11,
     "metadata": {},
     "output_type": "execute_result"
    }
   ],
   "source": [
    "# since ranges contains \"-\" we will check how many of them are there\n",
    "df['total_sqft'].str.contains(\"-\", case=False).sum()"
   ]
  },
  {
   "cell_type": "code",
   "execution_count": 12,
   "id": "8433f8a7",
   "metadata": {},
   "outputs": [
    {
     "name": "stdout",
     "output_type": "stream",
     "text": [
      "201\n"
     ]
    },
    {
     "data": {
      "text/html": [
       "<div>\n",
       "<style scoped>\n",
       "    .dataframe tbody tr th:only-of-type {\n",
       "        vertical-align: middle;\n",
       "    }\n",
       "\n",
       "    .dataframe tbody tr th {\n",
       "        vertical-align: top;\n",
       "    }\n",
       "\n",
       "    .dataframe thead th {\n",
       "        text-align: right;\n",
       "    }\n",
       "</style>\n",
       "<table border=\"1\" class=\"dataframe\">\n",
       "  <thead>\n",
       "    <tr style=\"text-align: right;\">\n",
       "      <th></th>\n",
       "      <th>total_sqft</th>\n",
       "      <th>area_type</th>\n",
       "      <th>price</th>\n",
       "    </tr>\n",
       "  </thead>\n",
       "  <tbody>\n",
       "    <tr>\n",
       "      <th>8871</th>\n",
       "      <td>750 - 800</td>\n",
       "      <td>Super built-up  Area</td>\n",
       "      <td>34.10</td>\n",
       "    </tr>\n",
       "    <tr>\n",
       "      <th>6643</th>\n",
       "      <td>2830 - 2882</td>\n",
       "      <td>Super built-up  Area</td>\n",
       "      <td>157.50</td>\n",
       "    </tr>\n",
       "    <tr>\n",
       "      <th>5374</th>\n",
       "      <td>770 - 841</td>\n",
       "      <td>Super built-up  Area</td>\n",
       "      <td>19.33</td>\n",
       "    </tr>\n",
       "    <tr>\n",
       "      <th>3862</th>\n",
       "      <td>3293 - 5314</td>\n",
       "      <td>Super built-up  Area</td>\n",
       "      <td>226.00</td>\n",
       "    </tr>\n",
       "    <tr>\n",
       "      <th>11389</th>\n",
       "      <td>2150 - 2225</td>\n",
       "      <td>Super built-up  Area</td>\n",
       "      <td>105.00</td>\n",
       "    </tr>\n",
       "  </tbody>\n",
       "</table>\n",
       "</div>"
      ],
      "text/plain": [
       "        total_sqft             area_type   price\n",
       "8871     750 - 800  Super built-up  Area   34.10\n",
       "6643   2830 - 2882  Super built-up  Area  157.50\n",
       "5374     770 - 841  Super built-up  Area   19.33\n",
       "3862   3293 - 5314  Super built-up  Area  226.00\n",
       "11389  2150 - 2225  Super built-up  Area  105.00"
      ]
     },
     "execution_count": 12,
     "metadata": {},
     "output_type": "execute_result"
    }
   ],
   "source": [
    "rng_df = df[['total_sqft','area_type','price']][df['total_sqft'].str.contains(\"-\", case=False)]\n",
    "print(len(rng_df))\n",
    "rng_df.sample(5)"
   ]
  },
  {
   "cell_type": "markdown",
   "id": "3fea3dd6",
   "metadata": {},
   "source": [
    "for now i will take the average and try to see if it make sense or not"
   ]
  },
  {
   "cell_type": "code",
   "execution_count": 13,
   "id": "f150de33",
   "metadata": {},
   "outputs": [
    {
     "data": {
      "text/plain": [
       "<Axes: xlabel='mid_total_sqft', ylabel='price'>"
      ]
     },
     "execution_count": 13,
     "metadata": {},
     "output_type": "execute_result"
    },
    {
     "data": {
      "image/png": "[encoded data removed]",
      "text/plain": [
       "<Figure size 640x480 with 1 Axes>"
      ]
     },
     "metadata": {},
     "output_type": "display_data"
    }
   ],
   "source": [
    "rng_df['mid_total_sqft'] = rng_df['total_sqft'].apply(lambda x: (float(x.split(\"-\")[0]) + float(x.split(\"-\")[1]))/2)\n",
    "\n",
    "sns.scatterplot(data=rng_df, x='mid_total_sqft', y='price',hue='area_type')"
   ]
  },
  {
   "cell_type": "markdown",
   "id": "2bfd8ae6",
   "metadata": {},
   "source": [
    "We can see a linear realtionship between price and the total_sqft"
   ]
  },
  {
   "cell_type": "code",
   "execution_count": 14,
   "id": "1ee55cb1",
   "metadata": {},
   "outputs": [
    {
     "data": {
      "text/plain": [
       "<Axes: xlabel='low_total_sqft', ylabel='price'>"
      ]
     },
     "execution_count": 14,
     "metadata": {},
     "output_type": "execute_result"
    },
    {
     "data": {
      "image/png": "[encoded data removed]",
      "text/plain": [
       "<Figure size 640x480 with 1 Axes>"
      ]
     },
     "metadata": {},
     "output_type": "display_data"
    }
   ],
   "source": [
    "# checking with the lower value of the range\n",
    "rng_df['low_total_sqft'] = rng_df['total_sqft'].apply(lambda x: float(x.split(\"-\")[0]))\n",
    "\n",
    "sns.scatterplot(data=rng_df, x='low_total_sqft', y='price',hue='area_type')"
   ]
  },
  {
   "cell_type": "code",
   "execution_count": 15,
   "id": "402b4b2a",
   "metadata": {},
   "outputs": [
    {
     "data": {
      "text/plain": [
       "<Axes: xlabel='high_total_sqft', ylabel='price'>"
      ]
     },
     "execution_count": 15,
     "metadata": {},
     "output_type": "execute_result"
    },
    {
     "data": {
      "image/png": "[encoded data removed]",
      "text/plain": [
       "<Figure size 640x480 with 1 Axes>"
      ]
     },
     "metadata": {},
     "output_type": "display_data"
    }
   ],
   "source": [
    "# checking with the higher value of the range\n",
    "rng_df['high_total_sqft'] = rng_df['total_sqft'].apply(lambda x: float(x.split(\"-\")[1]))\n",
    "\n",
    "sns.scatterplot(data=rng_df, x='high_total_sqft', y='price',hue='area_type')"
   ]
  },
  {
   "cell_type": "markdown",
   "id": "1baeef2e",
   "metadata": {},
   "source": [
    "I will go with the mid of the range."
   ]
  },
  {
   "cell_type": "code",
   "execution_count": 16,
   "id": "7f31817d",
   "metadata": {},
   "outputs": [],
   "source": [
    "pattern = r'[-+]?(?:\\d*\\.\\d+|\\d+)(?:[-+]?\\d+)?'\n",
    "temp_df = df['total_sqft'].apply(lambda x: np.mean(np.float32(re.findall(pattern, x))))"
   ]
  },
  {
   "cell_type": "code",
   "execution_count": 28,
   "id": "794f3dd0",
   "metadata": {},
   "outputs": [],
   "source": [
    "def check_for_float(x):\n",
    "    try:\n",
    "        float(x)\n",
    "    except:\n",
    "        return True\n",
    "    return False"
   ]
  },
  {
   "cell_type": "code",
   "execution_count": 30,
   "id": "785e222a",
   "metadata": {},
   "outputs": [
    {
     "name": "stdout",
     "output_type": "stream",
     "text": [
      "2100 - 2850\n",
      "3010 - 3410\n",
      "2957 - 3450\n",
      "3067 - 8156\n",
      "1042 - 1105\n",
      "1145 - 1340\n",
      "1015 - 1540\n",
      "1520 - 1740\n",
      "34.46Sq. Meter\n",
      "1195 - 1440\n",
      "1200 - 2400\n",
      "4125Perch\n",
      "1120 - 1145\n",
      "4400 - 6640\n",
      "3090 - 5002\n",
      "4400 - 6800\n",
      "1160 - 1195\n",
      "1000Sq. Meter\n",
      "4000 - 5249\n",
      "1115 - 1130\n",
      "1100Sq. Yards\n",
      "520 - 645\n",
      "1000 - 1285\n",
      "3606 - 5091\n",
      "650 - 665\n",
      "633 - 666\n",
      "5.31Acres\n",
      "30Acres\n",
      "1445 - 1455\n",
      "884 - 1116\n",
      "850 - 1093\n",
      "1440 - 1884\n",
      "716Sq. Meter\n",
      "547.34 - 827.31\n",
      "580 - 650\n",
      "3425 - 3435\n",
      "1804 - 2273\n",
      "3630 - 3800\n",
      "660 - 670\n",
      "4000 - 5249\n",
      "1500Sq. Meter\n",
      "620 - 933\n",
      "142.61Sq. Meter\n",
      "2695 - 2940\n",
      "2000 - 5634\n",
      "1574Sq. Yards\n",
      "3450 - 3472\n",
      "1250 - 1305\n",
      "670 - 980\n",
      "1005.03 - 1252.49\n",
      "3630 - 3800\n",
      "1004 - 1204\n",
      "361.33Sq. Yards\n",
      "645 - 936\n",
      "2710 - 3360\n",
      "2249.81 - 4112.19\n",
      "3436 - 3643\n",
      "2830 - 2882\n",
      "596 - 804\n",
      "1255 - 1863\n",
      "1300 - 1405\n",
      "1200 - 2400\n",
      "1500 - 2400\n",
      "117Sq. Yards\n",
      "934 - 1437\n",
      "980 - 1030\n",
      "1564 - 1850\n",
      "1446 - 1506\n",
      "2249.81 - 4112.19\n",
      "1070 - 1315\n",
      "3040Sq. Meter\n",
      "500Sq. Yards\n",
      "2806 - 3019\n",
      "613 - 648\n",
      "1430 - 1630\n",
      "704 - 730\n",
      "1482 - 1846\n",
      "2805 - 3565\n",
      "3293 - 5314\n",
      "1210 - 1477\n",
      "3369 - 3464\n",
      "1125 - 1500\n",
      "167Sq. Meter\n",
      "1076 - 1199\n",
      "381 - 535\n",
      "2215 - 2475\n",
      "524 - 894\n",
      "540 - 670\n",
      "315Sq. Yards\n",
      "1650 - 2538\n",
      "2725 - 3250\n",
      "1974 - 2171\n",
      "888 - 1290\n",
      "1360 - 1890\n",
      "2466 - 2856\n",
      "660 - 700\n",
      "385 - 440\n",
      "2100 - 5405\n",
      "770 - 841\n",
      "524 - 894\n",
      "3Cents\n",
      "1310 - 1615\n",
      "1782 - 2000\n",
      "188.89Sq. Yards\n",
      "1469 - 1766\n",
      "204Sq. Meter\n",
      "1255 - 1350\n",
      "870 - 1080\n",
      "45Sq. Yards\n",
      "133.3Sq. Yards\n",
      "2580 - 2591\n",
      "613 - 648\n",
      "2563 - 2733\n",
      "605 - 624\n",
      "4260 - 4408\n",
      "1349 - 3324\n",
      "78.03Sq. Meter\n",
      "1255 - 1350\n",
      "3300 - 3335\n",
      "1180 - 1630\n",
      "1365 - 1700\n",
      "3500 - 3600\n",
      "122Sq. Yards\n",
      "2830 - 2882\n",
      "84.53Sq. Meter\n",
      "2.09Acres\n",
      "2830 - 2882\n",
      "1482 - 1684\n",
      "981 - 1249\n",
      "1100 - 1225\n",
      "1565 - 1595\n",
      "24Guntha\n",
      "1270 - 1275\n",
      "840 - 1010\n",
      "697Sq. Meter\n",
      "2830 - 2882\n",
      "655 - 742\n",
      "800 - 2660\n",
      "1408 - 1455\n",
      "4050 - 4075\n",
      "942 - 1117\n",
      "1750 - 2640\n",
      "142.61Sq. Meter\n",
      "1390 - 1600\n",
      "598 - 958\n",
      "1500Cents\n",
      "132Sq. Yards\n",
      "1010 - 1300\n",
      "2Acres\n",
      "3103 - 3890\n",
      "1450 - 1950\n",
      "1100Sq. Meter\n",
      "15Acres\n",
      "1450 - 1595\n",
      "763 - 805\n",
      "3307 - 3464\n",
      "1.26Acres\n",
      "620 - 934\n",
      "2462 - 2467\n",
      "540 - 740\n",
      "1618 - 1929\n",
      "3508 - 4201\n",
      "2249.81 - 4112.19\n",
      "4900 - 4940\n",
      "1610 - 1880\n",
      "755 - 770\n",
      "664 - 722\n",
      "151.11Sq. Yards\n",
      "700 - 900\n",
      "596 - 861\n",
      "1925 - 2680\n",
      "615 - 985\n",
      "1200 - 2400\n",
      "540 - 565\n",
      "1390 - 1600\n",
      "750 - 800\n",
      "1660 - 1805\n",
      "1365 - 1700\n",
      "1410 - 1710\n",
      "1079 - 1183\n",
      "2800 - 2870\n",
      "1230 - 1290\n",
      "943 - 1220\n",
      "2041 - 2090\n",
      "527 - 639\n",
      "645 - 936\n",
      "1Grounds\n",
      "1160 - 1315\n",
      "706 - 716\n",
      "2940Sq. Yards\n",
      "1791 - 4000\n",
      "45.06Sq. Meter\n",
      "799 - 803\n",
      "2470 - 2790\n",
      "783 - 943\n",
      "4500 - 5540\n",
      "1255 - 1375\n",
      "1430 - 1630\n",
      "610 - 615\n",
      "854 - 960\n",
      "2650 - 2990\n",
      "1.25Acres\n",
      "86.72Sq. Meter\n",
      "381 - 535\n",
      "1230 - 1490\n",
      "3630 - 3800\n",
      "660 - 780\n",
      "1618 - 1929\n",
      "1150 - 1194\n",
      "684 - 810\n",
      "1200 - 1800\n",
      "1510 - 1670\n",
      "1550 - 1590\n",
      "1235 - 1410\n",
      "3484 - 3550\n",
      "38Guntha\n",
      "929 - 1078\n",
      "2150 - 2225\n",
      "1520 - 1759\n",
      "2580 - 2591\n",
      "629 - 1026\n",
      "1215 - 1495\n",
      "6Acres\n",
      "1140 - 1250\n",
      "2400 - 2600\n",
      "1052 - 1322\n",
      "5666 - 5669\n",
      "620 - 934\n",
      "712 - 938\n",
      "1783 - 1878\n",
      "120Sq. Yards\n",
      "24Sq. Meter\n",
      "2528 - 3188\n",
      "650 - 760\n",
      "1400 - 1421\n",
      "4000 - 4450\n",
      "142.84Sq. Meter\n",
      "300Sq. Yards\n",
      "1115 - 1130\n",
      "2204 - 2362\n",
      "1437 - 1629\n",
      "850 - 1060\n",
      "1804 - 2273\n",
      "1200 - 1470\n",
      "1020 - 1130\n",
      "1133 - 1384\n",
      "2830 - 2882\n"
     ]
    }
   ],
   "source": [
    "for i in df['total_sqft']:\n",
    "    if check_for_float(i):\n",
    "        print(i)      "
   ]
  },
  {
   "cell_type": "code",
   "execution_count": null,
   "id": "cf8b8b26",
   "metadata": {},
   "outputs": [],
   "source": []
  },
  {
   "cell_type": "code",
   "execution_count": null,
   "id": "77c0ec0d",
   "metadata": {},
   "outputs": [],
   "source": [
    "df['total_sqft'].apply(lambda x: True if  )"
   ]
  },
  {
   "cell_type": "code",
   "execution_count": null,
   "id": "3d190749",
   "metadata": {},
   "outputs": [],
   "source": [
    "asasasas"
   ]
  },
  {
   "cell_type": "markdown",
   "id": "53f0ba97",
   "metadata": {},
   "source": []
  },
  {
   "cell_type": "code",
   "execution_count": 24,
   "id": "b8fe7ce3",
   "metadata": {},
   "outputs": [
    {
     "data": {
      "text/plain": [
       "True"
      ]
     },
     "execution_count": 24,
     "metadata": {},
     "output_type": "execute_result"
    }
   ],
   "source": [
    "'2'.isdigit()"
   ]
  },
  {
   "cell_type": "code",
   "execution_count": null,
   "id": "e3912cc5",
   "metadata": {},
   "outputs": [
    {
     "data": {
      "text/plain": [
       "False"
      ]
     },
     "execution_count": 25,
     "metadata": {},
     "output_type": "execute_result"
    }
   ],
   "source": [
    "'2.34'.is()"
   ]
  },
  {
   "cell_type": "code",
   "execution_count": null,
   "id": "6ca677f7",
   "metadata": {},
   "outputs": [],
   "source": [
    "isdigit()"
   ]
  },
  {
   "cell_type": "code",
   "execution_count": null,
   "id": "30c7b61a",
   "metadata": {},
   "outputs": [],
   "source": []
  },
  {
   "cell_type": "code",
   "execution_count": null,
   "id": "94afe78a",
   "metadata": {},
   "outputs": [
    {
     "data": {
      "text/plain": [
       "['34.46', '.13', '.53']"
      ]
     },
     "execution_count": 16,
     "metadata": {},
     "output_type": "execute_result"
    }
   ],
   "source": [
    "re.findall(pattern, '34.46 -Float.13.53')"
   ]
  },
  {
   "cell_type": "code",
   "execution_count": null,
   "id": "67d75235",
   "metadata": {},
   "outputs": [
    {
     "name": "stdout",
     "output_type": "stream",
     "text": [
      "<class 'pandas.core.series.Series'>\n",
      "RangeIndex: 13320 entries, 0 to 13319\n",
      "Series name: total_sqft\n",
      "Non-Null Count  Dtype  \n",
      "--------------  -----  \n",
      "13320 non-null  float32\n",
      "dtypes: float32(1)\n",
      "memory usage: 52.2 KB\n"
     ]
    }
   ],
   "source": [
    "temo_df.info()"
   ]
  },
  {
   "cell_type": "code",
   "execution_count": null,
   "id": "1c24015b",
   "metadata": {},
   "outputs": [
    {
     "data": {
      "text/plain": [
       "np.int64(0)"
      ]
     },
     "execution_count": 18,
     "metadata": {},
     "output_type": "execute_result"
    }
   ],
   "source": [
    "temo_df.isnull().sum()"
   ]
  },
  {
   "cell_type": "code",
   "execution_count": null,
   "id": "570837c7",
   "metadata": {},
   "outputs": [
    {
     "data": {
      "text/plain": [
       "0        1056.0\n",
       "1        2600.0\n",
       "2        1440.0\n",
       "3        1521.0\n",
       "4        1200.0\n",
       "          ...  \n",
       "13315    3453.0\n",
       "13316    3600.0\n",
       "13317    1141.0\n",
       "13318    4689.0\n",
       "13319     550.0\n",
       "Name: total_sqft, Length: 13320, dtype: float32"
      ]
     },
     "execution_count": 19,
     "metadata": {},
     "output_type": "execute_result"
    }
   ],
   "source": [
    "temo_df"
   ]
  },
  {
   "cell_type": "code",
   "execution_count": null,
   "id": "268d2dab",
   "metadata": {},
   "outputs": [],
   "source": []
  },
  {
   "cell_type": "code",
   "execution_count": null,
   "id": "3af8f5ab",
   "metadata": {},
   "outputs": [],
   "source": []
  },
  {
   "cell_type": "code",
   "execution_count": null,
   "id": "9199f412",
   "metadata": {},
   "outputs": [
    {
     "data": {
      "text/plain": [
       "[34.46, 13.53]"
      ]
     },
     "execution_count": 20,
     "metadata": {},
     "output_type": "execute_result"
    }
   ],
   "source": [
    "import re\n",
    "[float(m) for m in re.findall(r'[-+]?\\d+\\.\\d+', '34.46 - 13.53')]"
   ]
  },
  {
   "cell_type": "code",
   "execution_count": null,
   "id": "49065377",
   "metadata": {},
   "outputs": [
    {
     "data": {
      "text/plain": [
       "np.float32(23.994999)"
      ]
     },
     "execution_count": 21,
     "metadata": {},
     "output_type": "execute_result"
    }
   ],
   "source": [
    "np.mean(np.float32(re.findall(r'[-+]?\\d+\\.\\d+', '34.46 -Float.13.53')))"
   ]
  },
  {
   "cell_type": "code",
   "execution_count": null,
   "id": "b5320145",
   "metadata": {},
   "outputs": [],
   "source": []
  },
  {
   "cell_type": "code",
   "execution_count": null,
   "id": "34cb58c6",
   "metadata": {},
   "outputs": [
    {
     "ename": "NameError",
     "evalue": "name 'aaaaaaaaaaaaa' is not defined",
     "output_type": "error",
     "traceback": [
      "\u001b[31m---------------------------------------------------------------------------\u001b[39m",
      "\u001b[31mNameError\u001b[39m                                 Traceback (most recent call last)",
      "\u001b[36mCell\u001b[39m\u001b[36m \u001b[39m\u001b[32mIn[22]\u001b[39m\u001b[32m, line 1\u001b[39m\n\u001b[32m----> \u001b[39m\u001b[32m1\u001b[39m \u001b[43maaaaaaaaaaaaa\u001b[49m\n",
      "\u001b[31mNameError\u001b[39m: name 'aaaaaaaaaaaaa' is not defined"
     ]
    }
   ],
   "source": [
    "aaaaaaaaaaaaa"
   ]
  },
  {
   "cell_type": "code",
   "execution_count": null,
   "id": "777e349c",
   "metadata": {},
   "outputs": [],
   "source": []
  },
  {
   "cell_type": "code",
   "execution_count": null,
   "id": "e06c6b7d",
   "metadata": {},
   "outputs": [],
   "source": []
  },
  {
   "cell_type": "code",
   "execution_count": null,
   "id": "90a499d1",
   "metadata": {},
   "outputs": [],
   "source": []
  },
  {
   "cell_type": "code",
   "execution_count": null,
   "id": "bfa2c50a",
   "metadata": {},
   "outputs": [],
   "source": []
  },
  {
   "cell_type": "code",
   "execution_count": null,
   "id": "b4eb33fb",
   "metadata": {},
   "outputs": [],
   "source": []
  },
  {
   "cell_type": "code",
   "execution_count": null,
   "id": "377bdea2",
   "metadata": {},
   "outputs": [],
   "source": []
  },
  {
   "cell_type": "code",
   "execution_count": null,
   "id": "408f21f6",
   "metadata": {},
   "outputs": [],
   "source": [
    "df['total_sqft'].astype(float)"
   ]
  },
  {
   "cell_type": "code",
   "execution_count": null,
   "id": "5dfd136a",
   "metadata": {},
   "outputs": [],
   "source": [
    "\n",
    "df['total_sqft'].str.contains(\"-\", case=False).sum()"
   ]
  },
  {
   "cell_type": "code",
   "execution_count": null,
   "id": "b0356ac6",
   "metadata": {},
   "outputs": [],
   "source": []
  },
  {
   "cell_type": "code",
   "execution_count": null,
   "id": "5c401c2e",
   "metadata": {},
   "outputs": [],
   "source": [
    "[df['total_sqft']==].astype(float,errors='coerce').unique()"
   ]
  },
  {
   "cell_type": "code",
   "execution_count": null,
   "id": "fda1bc81",
   "metadata": {},
   "outputs": [],
   "source": []
  },
  {
   "cell_type": "code",
   "execution_count": null,
   "id": "44e08ba9",
   "metadata": {},
   "outputs": [],
   "source": []
  },
  {
   "cell_type": "code",
   "execution_count": null,
   "id": "1a1b1caf",
   "metadata": {},
   "outputs": [],
   "source": []
  },
  {
   "cell_type": "code",
   "execution_count": null,
   "id": "6a4254b8",
   "metadata": {},
   "outputs": [],
   "source": [
    "df['total_sqft'].astype(float,errors='ignore')=="
   ]
  },
  {
   "cell_type": "code",
   "execution_count": null,
   "id": "bbc33a63",
   "metadata": {},
   "outputs": [],
   "source": [
    "df.shape"
   ]
  },
  {
   "cell_type": "code",
   "execution_count": null,
   "id": "65164192",
   "metadata": {},
   "outputs": [],
   "source": []
  },
  {
   "cell_type": "code",
   "execution_count": null,
   "id": "e94ef9ff",
   "metadata": {},
   "outputs": [],
   "source": [
    "asasasasa"
   ]
  },
  {
   "cell_type": "code",
   "execution_count": null,
   "id": "4704a461",
   "metadata": {},
   "outputs": [],
   "source": [
    "([ x for x in df['total_sqft'].astype(str) if \"-\" in x])"
   ]
  },
  {
   "cell_type": "code",
   "execution_count": null,
   "id": "e9efddcf",
   "metadata": {},
   "outputs": [],
   "source": [
    "df[\"-\" in df['total_sqft']]"
   ]
  },
  {
   "cell_type": "code",
   "execution_count": null,
   "id": "ec797ed5",
   "metadata": {},
   "outputs": [],
   "source": []
  },
  {
   "cell_type": "code",
   "execution_count": null,
   "id": "d8f38284",
   "metadata": {},
   "outputs": [],
   "source": []
  },
  {
   "cell_type": "markdown",
   "id": "d12e9ad2",
   "metadata": {},
   "source": [
    "?????? what the data tells"
   ]
  },
  {
   "cell_type": "markdown",
   "id": "1c8c53cd",
   "metadata": {},
   "source": []
  },
  {
   "cell_type": "markdown",
   "id": "f6a71998",
   "metadata": {},
   "source": [
    "**availability**"
   ]
  },
  {
   "cell_type": "code",
   "execution_count": null,
   "id": "c3202924",
   "metadata": {},
   "outputs": [],
   "source": [
    "df['availability'].str.lower().value_counts()"
   ]
  },
  {
   "cell_type": "code",
   "execution_count": null,
   "id": "a4b4b089",
   "metadata": {},
   "outputs": [],
   "source": []
  }
 ],
 "metadata": {
  "kernelspec": {
   "display_name": "GAN",
   "language": "python",
   "name": "python3"
  },
  "language_info": {
   "codemirror_mode": {
    "name": "ipython",
    "version": 3
   },
   "file_extension": ".py",
   "mimetype": "text/x-python",
   "name": "python",
   "nbconvert_exporter": "python",
   "pygments_lexer": "ipython3",
   "version": "3.13.8"
  }
 },
 "nbformat": 4,
 "nbformat_minor": 5
}
