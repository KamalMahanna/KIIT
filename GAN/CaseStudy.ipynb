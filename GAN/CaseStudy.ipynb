{
 "cells": [
  {
   "cell_type": "code",
   "execution_count": 28,
   "id": "8c7c64c8",
   "metadata": {},
   "outputs": [],
   "source": [
    "import pandas as pd\n",
    "import numpy as np\n",
    "import matplotlib.pyplot as plt\n",
    "import seaborn as sns\n",
    "import plotly.graph_objects as go\n",
    "import re"
   ]
  },
  {
   "cell_type": "code",
   "execution_count": 2,
   "metadata": {},
   "outputs": [],
   "source": [
    "df=pd.read_csv(r\"dataSets/Bengaluru_House_Data.csv\")"
   ]
  },
  {
   "cell_type": "code",
   "execution_count": 3,
   "metadata": {},
   "outputs": [
    {
     "data": {
      "text/html": [
       "<div>\n",
       "<style scoped>\n",
       "    .dataframe tbody tr th:only-of-type {\n",
       "        vertical-align: middle;\n",
       "    }\n",
       "\n",
       "    .dataframe tbody tr th {\n",
       "        vertical-align: top;\n",
       "    }\n",
       "\n",
       "    .dataframe thead th {\n",
       "        text-align: right;\n",
       "    }\n",
       "</style>\n",
       "<table border=\"1\" class=\"dataframe\">\n",
       "  <thead>\n",
       "    <tr style=\"text-align: right;\">\n",
       "      <th></th>\n",
       "      <th>area_type</th>\n",
       "      <th>availability</th>\n",
       "      <th>location</th>\n",
       "      <th>size</th>\n",
       "      <th>society</th>\n",
       "      <th>total_sqft</th>\n",
       "      <th>bath</th>\n",
       "      <th>balcony</th>\n",
       "      <th>price</th>\n",
       "    </tr>\n",
       "  </thead>\n",
       "  <tbody>\n",
       "    <tr>\n",
       "      <th>0</th>\n",
       "      <td>Super built-up  Area</td>\n",
       "      <td>19-Dec</td>\n",
       "      <td>Electronic City Phase II</td>\n",
       "      <td>2 BHK</td>\n",
       "      <td>Coomee</td>\n",
       "      <td>1056</td>\n",
       "      <td>2.0</td>\n",
       "      <td>1.0</td>\n",
       "      <td>39.07</td>\n",
       "    </tr>\n",
       "    <tr>\n",
       "      <th>1</th>\n",
       "      <td>Plot  Area</td>\n",
       "      <td>Ready To Move</td>\n",
       "      <td>Chikka Tirupathi</td>\n",
       "      <td>4 Bedroom</td>\n",
       "      <td>Theanmp</td>\n",
       "      <td>2600</td>\n",
       "      <td>5.0</td>\n",
       "      <td>3.0</td>\n",
       "      <td>120.00</td>\n",
       "    </tr>\n",
       "    <tr>\n",
       "      <th>2</th>\n",
       "      <td>Built-up  Area</td>\n",
       "      <td>Ready To Move</td>\n",
       "      <td>Uttarahalli</td>\n",
       "      <td>3 BHK</td>\n",
       "      <td>NaN</td>\n",
       "      <td>1440</td>\n",
       "      <td>2.0</td>\n",
       "      <td>3.0</td>\n",
       "      <td>62.00</td>\n",
       "    </tr>\n",
       "    <tr>\n",
       "      <th>3</th>\n",
       "      <td>Super built-up  Area</td>\n",
       "      <td>Ready To Move</td>\n",
       "      <td>Lingadheeranahalli</td>\n",
       "      <td>3 BHK</td>\n",
       "      <td>Soiewre</td>\n",
       "      <td>1521</td>\n",
       "      <td>3.0</td>\n",
       "      <td>1.0</td>\n",
       "      <td>95.00</td>\n",
       "    </tr>\n",
       "    <tr>\n",
       "      <th>4</th>\n",
       "      <td>Super built-up  Area</td>\n",
       "      <td>Ready To Move</td>\n",
       "      <td>Kothanur</td>\n",
       "      <td>2 BHK</td>\n",
       "      <td>NaN</td>\n",
       "      <td>1200</td>\n",
       "      <td>2.0</td>\n",
       "      <td>1.0</td>\n",
       "      <td>51.00</td>\n",
       "    </tr>\n",
       "  </tbody>\n",
       "</table>\n",
       "</div>"
      ],
      "text/plain": [
       "              area_type   availability                  location       size  \\\n",
       "0  Super built-up  Area         19-Dec  Electronic City Phase II      2 BHK   \n",
       "1            Plot  Area  Ready To Move          Chikka Tirupathi  4 Bedroom   \n",
       "2        Built-up  Area  Ready To Move               Uttarahalli      3 BHK   \n",
       "3  Super built-up  Area  Ready To Move        Lingadheeranahalli      3 BHK   \n",
       "4  Super built-up  Area  Ready To Move                  Kothanur      2 BHK   \n",
       "\n",
       "   society total_sqft  bath  balcony   price  \n",
       "0  Coomee        1056   2.0      1.0   39.07  \n",
       "1  Theanmp       2600   5.0      3.0  120.00  \n",
       "2      NaN       1440   2.0      3.0   62.00  \n",
       "3  Soiewre       1521   3.0      1.0   95.00  \n",
       "4      NaN       1200   2.0      1.0   51.00  "
      ]
     },
     "execution_count": 3,
     "metadata": {},
     "output_type": "execute_result"
    }
   ],
   "source": [
    "df.head()"
   ]
  },
  {
   "cell_type": "code",
   "execution_count": 4,
   "id": "6a33d18a",
   "metadata": {},
   "outputs": [
    {
     "data": {
      "text/plain": [
       "(13320, 9)"
      ]
     },
     "execution_count": 4,
     "metadata": {},
     "output_type": "execute_result"
    }
   ],
   "source": [
    "df.shape"
   ]
  },
  {
   "cell_type": "markdown",
   "id": "43b98503",
   "metadata": {},
   "source": [
    "### Understanding The Data"
   ]
  },
  {
   "cell_type": "markdown",
   "id": "ee834d56",
   "metadata": {},
   "source": [
    "**`area_type`**"
   ]
  },
  {
   "cell_type": "code",
   "execution_count": 5,
   "metadata": {},
   "outputs": [
    {
     "data": {
      "text/plain": [
       "area_type\n",
       "Super built-up  Area    8790\n",
       "Built-up  Area          2418\n",
       "Plot  Area              2025\n",
       "Carpet  Area              87\n",
       "Name: count, dtype: int64"
      ]
     },
     "execution_count": 5,
     "metadata": {},
     "output_type": "execute_result"
    }
   ],
   "source": [
    "df['area_type'].value_counts()"
   ]
  },
  {
   "cell_type": "code",
   "execution_count": 6,
   "id": "d1d04eab",
   "metadata": {},
   "outputs": [
    {
     "data": {
      "text/plain": [
       "dtype('O')"
      ]
     },
     "execution_count": 6,
     "metadata": {},
     "output_type": "execute_result"
    }
   ],
   "source": [
    "df['total_sqft'].dtype"
   ]
  },
  {
   "cell_type": "code",
   "execution_count": 7,
   "id": "9b6564b8",
   "metadata": {},
   "outputs": [
    {
     "data": {
      "text/plain": [
       "np.int64(0)"
      ]
     },
     "execution_count": 7,
     "metadata": {},
     "output_type": "execute_result"
    }
   ],
   "source": [
    "df['total_sqft'].isnull().sum()"
   ]
  },
  {
   "cell_type": "markdown",
   "id": "dbdd6a55",
   "metadata": {},
   "source": [
    "No null values in 'total_sqft' column"
   ]
  },
  {
   "cell_type": "markdown",
   "id": "a798d5bd",
   "metadata": {},
   "source": [
    "Since area_type directly related to area of the house/plot. We will plot area with area_type to get the idea how they are differnt. Luckily we have \"total_sqft\" column which gives the area."
   ]
  },
  {
   "cell_type": "code",
   "execution_count": 8,
   "id": "05c9c8a4",
   "metadata": {},
   "outputs": [
    {
     "data": {
      "text/plain": [
       "0    1056\n",
       "1    2600\n",
       "2    1440\n",
       "3    1521\n",
       "4    1200\n",
       "Name: total_sqft, dtype: object"
      ]
     },
     "execution_count": 8,
     "metadata": {},
     "output_type": "execute_result"
    }
   ],
   "source": [
    "df['total_sqft'].head()"
   ]
  },
  {
   "cell_type": "code",
   "execution_count": 9,
   "id": "ce58683f",
   "metadata": {},
   "outputs": [
    {
     "data": {
      "text/plain": [
       "dtype('O')"
      ]
     },
     "execution_count": 9,
     "metadata": {},
     "output_type": "execute_result"
    }
   ],
   "source": [
    "df['total_sqft'].dtype"
   ]
  },
  {
   "cell_type": "markdown",
   "id": "cd7612e4",
   "metadata": {},
   "source": [
    "Area must be a numeric datatype, but here it is object type. Also converting it to float gives `ValueError: could not convert string to float: '2100 - 2850'`.\n",
    "So there must some values with a range. Checking how many of them.\n"
   ]
  },
  {
   "cell_type": "code",
   "execution_count": 10,
   "id": "550e2a27",
   "metadata": {},
   "outputs": [
    {
     "data": {
      "text/plain": [
       "np.int64(201)"
      ]
     },
     "execution_count": 10,
     "metadata": {},
     "output_type": "execute_result"
    }
   ],
   "source": [
    "# since ranges contains \"-\" we will check how many of them are there\n",
    "df['total_sqft'].str.contains(\"-\", case=False).sum()"
   ]
  },
  {
   "cell_type": "code",
   "execution_count": 11,
   "id": "8433f8a7",
   "metadata": {},
   "outputs": [
    {
     "name": "stdout",
     "output_type": "stream",
     "text": [
      "201\n"
     ]
    },
    {
     "data": {
      "text/html": [
       "<div>\n",
       "<style scoped>\n",
       "    .dataframe tbody tr th:only-of-type {\n",
       "        vertical-align: middle;\n",
       "    }\n",
       "\n",
       "    .dataframe tbody tr th {\n",
       "        vertical-align: top;\n",
       "    }\n",
       "\n",
       "    .dataframe thead th {\n",
       "        text-align: right;\n",
       "    }\n",
       "</style>\n",
       "<table border=\"1\" class=\"dataframe\">\n",
       "  <thead>\n",
       "    <tr style=\"text-align: right;\">\n",
       "      <th></th>\n",
       "      <th>total_sqft</th>\n",
       "      <th>area_type</th>\n",
       "      <th>price</th>\n",
       "    </tr>\n",
       "  </thead>\n",
       "  <tbody>\n",
       "    <tr>\n",
       "      <th>2809</th>\n",
       "      <td>1200 - 2400</td>\n",
       "      <td>Plot  Area</td>\n",
       "      <td>28.785</td>\n",
       "    </tr>\n",
       "    <tr>\n",
       "      <th>6587</th>\n",
       "      <td>840 - 1010</td>\n",
       "      <td>Super built-up  Area</td>\n",
       "      <td>40.700</td>\n",
       "    </tr>\n",
       "    <tr>\n",
       "      <th>6769</th>\n",
       "      <td>1408 - 1455</td>\n",
       "      <td>Super built-up  Area</td>\n",
       "      <td>72.020</td>\n",
       "    </tr>\n",
       "    <tr>\n",
       "      <th>10467</th>\n",
       "      <td>2650 - 2990</td>\n",
       "      <td>Super built-up  Area</td>\n",
       "      <td>153.500</td>\n",
       "    </tr>\n",
       "    <tr>\n",
       "      <th>9476</th>\n",
       "      <td>706 - 716</td>\n",
       "      <td>Super built-up  Area</td>\n",
       "      <td>42.650</td>\n",
       "    </tr>\n",
       "  </tbody>\n",
       "</table>\n",
       "</div>"
      ],
      "text/plain": [
       "        total_sqft             area_type    price\n",
       "2809   1200 - 2400            Plot  Area   28.785\n",
       "6587    840 - 1010  Super built-up  Area   40.700\n",
       "6769   1408 - 1455  Super built-up  Area   72.020\n",
       "10467  2650 - 2990  Super built-up  Area  153.500\n",
       "9476     706 - 716  Super built-up  Area   42.650"
      ]
     },
     "execution_count": 11,
     "metadata": {},
     "output_type": "execute_result"
    }
   ],
   "source": [
    "rng_df = df[['total_sqft','area_type','price']][df['total_sqft'].str.contains(\"-\", case=False)]\n",
    "print(len(rng_df))\n",
    "rng_df.sample(5)"
   ]
  },
  {
   "cell_type": "markdown",
   "id": "3fea3dd6",
   "metadata": {},
   "source": [
    "for now i will take the average and try to see if it make sense or not"
   ]
  },
  {
   "cell_type": "code",
   "execution_count": 12,
   "id": "f150de33",
   "metadata": {},
   "outputs": [
    {
     "data": {
      "text/plain": [
       "<Axes: xlabel='mid_total_sqft', ylabel='price'>"
      ]
     },
     "execution_count": 12,
     "metadata": {},
     "output_type": "execute_result"
    },
    {
     "data": {
      "image/png": "[encoded data removed]",
      "text/plain": [
       "<Figure size 640x480 with 1 Axes>"
      ]
     },
     "metadata": {},
     "output_type": "display_data"
    }
   ],
   "source": [
    "rng_df['mid_total_sqft'] = rng_df['total_sqft'].apply(lambda x: (float(x.split(\"-\")[0]) + float(x.split(\"-\")[1]))/2)\n",
    "\n",
    "sns.scatterplot(data=rng_df, x='mid_total_sqft', y='price',hue='area_type')"
   ]
  },
  {
   "cell_type": "markdown",
   "id": "2bfd8ae6",
   "metadata": {},
   "source": [
    "We can see a linear realtionship between price and the total_sqft"
   ]
  },
  {
   "cell_type": "code",
   "execution_count": 13,
   "id": "1ee55cb1",
   "metadata": {},
   "outputs": [
    {
     "data": {
      "text/plain": [
       "<Axes: xlabel='low_total_sqft', ylabel='price'>"
      ]
     },
     "execution_count": 13,
     "metadata": {},
     "output_type": "execute_result"
    },
    {
     "data": {
      "image/png": "[encoded data removed]",
      "text/plain": [
       "<Figure size 640x480 with 1 Axes>"
      ]
     },
     "metadata": {},
     "output_type": "display_data"
    }
   ],
   "source": [
    "rng_df['low_total_sqft'] = rng_df['total_sqft'].apply(lambda x: float(x.split(\"-\")[0]))\n",
    "\n",
    "sns.scatterplot(data=rng_df, x='low_total_sqft', y='price',hue='area_type')"
   ]
  },
  {
   "cell_type": "code",
   "execution_count": 14,
   "id": "402b4b2a",
   "metadata": {},
   "outputs": [
    {
     "data": {
      "text/plain": [
       "<Axes: xlabel='high_total_sqft', ylabel='price'>"
      ]
     },
     "execution_count": 14,
     "metadata": {},
     "output_type": "execute_result"
    },
    {
     "data": {
      "image/png": "[encoded data removed]",
      "text/plain": [
       "<Figure size 640x480 with 1 Axes>"
      ]
     },
     "metadata": {},
     "output_type": "display_data"
    }
   ],
   "source": [
    "rng_df['high_total_sqft'] = rng_df['total_sqft'].apply(lambda x: float(x.split(\"-\")[1]))\n",
    "\n",
    "sns.scatterplot(data=rng_df, x='high_total_sqft', y='price',hue='area_type')"
   ]
  },
  {
   "cell_type": "markdown",
   "id": "1baeef2e",
   "metadata": {},
   "source": [
    "I will go with the mid of the range. idk why?"
   ]
  },
  {
   "cell_type": "code",
   "execution_count": 67,
   "id": "7f31817d",
   "metadata": {},
   "outputs": [],
   "source": [
    "pattern = r'[-+]?(?:\\d*\\.\\d+|\\d+)(?:[-+]?\\d+)?'\n",
    "temo_df = df['total_sqft'].apply(lambda x: np.mean(np.float32(re.findall(pattern, x))))"
   ]
  },
  {
   "cell_type": "code",
   "execution_count": 68,
   "id": "94afe78a",
   "metadata": {},
   "outputs": [
    {
     "data": {
      "text/plain": [
       "['34.46', '.13', '.53']"
      ]
     },
     "execution_count": 68,
     "metadata": {},
     "output_type": "execute_result"
    }
   ],
   "source": [
    "re.findall(pattern, '34.46 -Float.13.53')"
   ]
  },
  {
   "cell_type": "code",
   "execution_count": 59,
   "id": "67d75235",
   "metadata": {},
   "outputs": [
    {
     "name": "stdout",
     "output_type": "stream",
     "text": [
      "<class 'pandas.core.series.Series'>\n",
      "RangeIndex: 13320 entries, 0 to 13319\n",
      "Series name: total_sqft\n",
      "Non-Null Count  Dtype  \n",
      "--------------  -----  \n",
      "13320 non-null  float32\n",
      "dtypes: float32(1)\n",
      "memory usage: 52.2 KB\n"
     ]
    }
   ],
   "source": [
    "temo_df.info()"
   ]
  },
  {
   "cell_type": "code",
   "execution_count": 60,
   "id": "1c24015b",
   "metadata": {},
   "outputs": [
    {
     "data": {
      "text/plain": [
       "np.int64(0)"
      ]
     },
     "execution_count": 60,
     "metadata": {},
     "output_type": "execute_result"
    }
   ],
   "source": [
    "temo_df.isnull().sum()"
   ]
  },
  {
   "cell_type": "code",
   "execution_count": 61,
   "id": "570837c7",
   "metadata": {},
   "outputs": [
    {
     "data": {
      "text/plain": [
       "0        1056.0\n",
       "1        2600.0\n",
       "2        1440.0\n",
       "3        1521.0\n",
       "4        1200.0\n",
       "          ...  \n",
       "13315    3453.0\n",
       "13316    3600.0\n",
       "13317    1141.0\n",
       "13318    4689.0\n",
       "13319     550.0\n",
       "Name: total_sqft, Length: 13320, dtype: float32"
      ]
     },
     "execution_count": 61,
     "metadata": {},
     "output_type": "execute_result"
    }
   ],
   "source": [
    "temo_df"
   ]
  },
  {
   "cell_type": "code",
   "execution_count": null,
   "id": "268d2dab",
   "metadata": {},
   "outputs": [],
   "source": []
  },
  {
   "cell_type": "code",
   "execution_count": null,
   "id": "3af8f5ab",
   "metadata": {},
   "outputs": [],
   "source": []
  },
  {
   "cell_type": "code",
   "execution_count": null,
   "id": "9199f412",
   "metadata": {},
   "outputs": [
    {
     "data": {
      "text/plain": [
       "[34.46, 13.53]"
      ]
     },
     "execution_count": 20,
     "metadata": {},
     "output_type": "execute_result"
    }
   ],
   "source": [
    "import re\n",
    "[float(m) for m in re.findall(r'[-+]?\\d+\\.\\d+', '34.46 - 13.53')]"
   ]
  },
  {
   "cell_type": "code",
   "execution_count": 31,
   "id": "49065377",
   "metadata": {},
   "outputs": [
    {
     "data": {
      "text/plain": [
       "np.float32(23.994999)"
      ]
     },
     "execution_count": 31,
     "metadata": {},
     "output_type": "execute_result"
    }
   ],
   "source": [
    "np.mean(np.float32(re.findall(r'[-+]?\\d+\\.\\d+', '34.46 -Float.13.53')))"
   ]
  },
  {
   "cell_type": "code",
   "execution_count": null,
   "id": "b5320145",
   "metadata": {},
   "outputs": [],
   "source": []
  },
  {
   "cell_type": "code",
   "execution_count": 16,
   "id": "34cb58c6",
   "metadata": {},
   "outputs": [
    {
     "ename": "NameError",
     "evalue": "name 'aaaaaaaaaaaaa' is not defined",
     "output_type": "error",
     "traceback": [
      "\u001b[31m---------------------------------------------------------------------------\u001b[39m",
      "\u001b[31mNameError\u001b[39m                                 Traceback (most recent call last)",
      "\u001b[36mCell\u001b[39m\u001b[36m \u001b[39m\u001b[32mIn[16]\u001b[39m\u001b[32m, line 1\u001b[39m\n\u001b[32m----> \u001b[39m\u001b[32m1\u001b[39m \u001b[43maaaaaaaaaaaaa\u001b[49m\n",
      "\u001b[31mNameError\u001b[39m: name 'aaaaaaaaaaaaa' is not defined"
     ]
    }
   ],
   "source": [
    "aaaaaaaaaaaaa"
   ]
  },
  {
   "cell_type": "code",
   "execution_count": null,
   "id": "777e349c",
   "metadata": {},
   "outputs": [],
   "source": []
  },
  {
   "cell_type": "code",
   "execution_count": null,
   "id": "e06c6b7d",
   "metadata": {},
   "outputs": [],
   "source": []
  },
  {
   "cell_type": "code",
   "execution_count": null,
   "id": "90a499d1",
   "metadata": {},
   "outputs": [],
   "source": []
  },
  {
   "cell_type": "code",
   "execution_count": null,
   "id": "bfa2c50a",
   "metadata": {},
   "outputs": [],
   "source": []
  },
  {
   "cell_type": "code",
   "execution_count": null,
   "id": "b4eb33fb",
   "metadata": {},
   "outputs": [],
   "source": []
  },
  {
   "cell_type": "code",
   "execution_count": null,
   "id": "377bdea2",
   "metadata": {},
   "outputs": [],
   "source": []
  },
  {
   "cell_type": "code",
   "execution_count": null,
   "id": "408f21f6",
   "metadata": {},
   "outputs": [],
   "source": [
    "df['total_sqft'].astype(float)"
   ]
  },
  {
   "cell_type": "code",
   "execution_count": null,
   "id": "5dfd136a",
   "metadata": {},
   "outputs": [],
   "source": [
    "\n",
    "df['total_sqft'].str.contains(\"-\", case=False).sum()"
   ]
  },
  {
   "cell_type": "code",
   "execution_count": null,
   "id": "b0356ac6",
   "metadata": {},
   "outputs": [],
   "source": []
  },
  {
   "cell_type": "code",
   "execution_count": null,
   "id": "5c401c2e",
   "metadata": {},
   "outputs": [],
   "source": [
    "[df['total_sqft']==].astype(float,errors='coerce').unique()"
   ]
  },
  {
   "cell_type": "code",
   "execution_count": null,
   "id": "fda1bc81",
   "metadata": {},
   "outputs": [],
   "source": []
  },
  {
   "cell_type": "code",
   "execution_count": null,
   "id": "44e08ba9",
   "metadata": {},
   "outputs": [],
   "source": []
  },
  {
   "cell_type": "code",
   "execution_count": null,
   "id": "1a1b1caf",
   "metadata": {},
   "outputs": [],
   "source": []
  },
  {
   "cell_type": "code",
   "execution_count": null,
   "id": "6a4254b8",
   "metadata": {},
   "outputs": [],
   "source": [
    "df['total_sqft'].astype(float,errors='ignore')=="
   ]
  },
  {
   "cell_type": "code",
   "execution_count": null,
   "id": "bbc33a63",
   "metadata": {},
   "outputs": [],
   "source": [
    "df.shape"
   ]
  },
  {
   "cell_type": "code",
   "execution_count": null,
   "id": "65164192",
   "metadata": {},
   "outputs": [],
   "source": []
  },
  {
   "cell_type": "code",
   "execution_count": null,
   "id": "e94ef9ff",
   "metadata": {},
   "outputs": [],
   "source": [
    "asasasasa"
   ]
  },
  {
   "cell_type": "code",
   "execution_count": null,
   "id": "4704a461",
   "metadata": {},
   "outputs": [],
   "source": [
    "([ x for x in df['total_sqft'].astype(str) if \"-\" in x])"
   ]
  },
  {
   "cell_type": "code",
   "execution_count": null,
   "id": "e9efddcf",
   "metadata": {},
   "outputs": [],
   "source": [
    "df[\"-\" in df['total_sqft']]"
   ]
  },
  {
   "cell_type": "code",
   "execution_count": null,
   "id": "ec797ed5",
   "metadata": {},
   "outputs": [],
   "source": []
  },
  {
   "cell_type": "code",
   "execution_count": null,
   "id": "d8f38284",
   "metadata": {},
   "outputs": [],
   "source": []
  },
  {
   "cell_type": "markdown",
   "id": "d12e9ad2",
   "metadata": {},
   "source": [
    "?????? what the data tells"
   ]
  },
  {
   "cell_type": "markdown",
   "id": "1c8c53cd",
   "metadata": {},
   "source": []
  },
  {
   "cell_type": "markdown",
   "id": "f6a71998",
   "metadata": {},
   "source": [
    "**availability**"
   ]
  },
  {
   "cell_type": "code",
   "execution_count": null,
   "id": "c3202924",
   "metadata": {},
   "outputs": [],
   "source": [
    "df['availability'].str.lower().value_counts()"
   ]
  },
  {
   "cell_type": "code",
   "execution_count": null,
   "id": "a4b4b089",
   "metadata": {},
   "outputs": [],
   "source": []
  }
 ],
 "metadata": {
  "kernelspec": {
   "display_name": "base",
   "language": "python",
   "name": "python3"
  },
  "language_info": {
   "codemirror_mode": {
    "name": "ipython",
    "version": 3
   },
   "file_extension": ".py",
   "mimetype": "text/x-python",
   "name": "python",
   "nbconvert_exporter": "python",
   "pygments_lexer": "ipython3",
   "version": "3.13.5"
  }
 },
 "nbformat": 4,
 "nbformat_minor": 5
}
