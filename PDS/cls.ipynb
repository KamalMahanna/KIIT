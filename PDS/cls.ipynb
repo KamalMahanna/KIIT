{
 "cells": [
  {
   "cell_type": "code",
   "execution_count": null,
   "id": "cbfd3901",
   "metadata": {},
   "outputs": [],
   "source": [
    "class X:\n",
    "    def get(self, m, n):\n",
    "        self.a = m + n\n",
    "\n",
    "    def display(self) :\n",
    "        print(\"value of a \", self.a)"
   ]
  },
  {
   "cell_type": "code",
   "execution_count": 2,
   "id": "9c17f54f",
   "metadata": {},
   "outputs": [
    {
     "name": "stdout",
     "output_type": "stream",
     "text": [
      "value of a  30\n"
     ]
    }
   ],
   "source": [
    "x1 = X()\n",
    "x1.get(10, 20)\n",
    "x1.display()"
   ]
  },
  {
   "cell_type": "code",
   "execution_count": 8,
   "id": "beeb264a",
   "metadata": {},
   "outputs": [],
   "source": [
    "class Student:\n",
    "    def getData(self, x, y):\n",
    "        self.roll = x\n",
    "        self.mark = y\n",
    "    \n",
    "    def displayData(self):\n",
    "        print(\"RollNo = \",self.roll)\n",
    "        print(\"Marks = \",self.mark)"
   ]
  },
  {
   "cell_type": "code",
   "execution_count": 9,
   "id": "9ff74639",
   "metadata": {},
   "outputs": [
    {
     "name": "stdout",
     "output_type": "stream",
     "text": [
      "RollNo =  11\n",
      "Marks =  45.5\n",
      "RollNo =  12\n",
      "Marks =  75.9\n"
     ]
    }
   ],
   "source": [
    "s1 = Student()\n",
    "s2 = Student()\n",
    "\n",
    "s1.getData(11,45.5)\n",
    "s1.displayData()\n",
    "\n",
    "\n",
    "s2.getData(12,75.9)\n",
    "s2.displayData()"
   ]
  },
  {
   "cell_type": "code",
   "execution_count": 10,
   "id": "0f956453",
   "metadata": {},
   "outputs": [
    {
     "name": "stdout",
     "output_type": "stream",
     "text": [
      "<__main__.Student object at 0x0000012BDF893770>\n"
     ]
    }
   ],
   "source": [
    "print(s1)"
   ]
  },
  {
   "cell_type": "code",
   "execution_count": 6,
   "id": "25a250a4",
   "metadata": {},
   "outputs": [
    {
     "name": "stdout",
     "output_type": "stream",
     "text": [
      "<__main__.Student object at 0x0000012BDF83B770>\n"
     ]
    }
   ],
   "source": [
    "print(s1)"
   ]
  },
  {
   "cell_type": "code",
   "execution_count": 11,
   "id": "12ebcbfb",
   "metadata": {},
   "outputs": [],
   "source": [
    "class foo():\n",
    "    def __init__(self):\n",
    "        self.bar = \"bar\"\n",
    "        return self.bar"
   ]
  },
  {
   "cell_type": "code",
   "execution_count": 12,
   "id": "0af2fa30",
   "metadata": {},
   "outputs": [
    {
     "ename": "TypeError",
     "evalue": "__init__() should return None, not 'str'",
     "output_type": "error",
     "traceback": [
      "\u001b[31m---------------------------------------------------------------------------\u001b[39m",
      "\u001b[31mTypeError\u001b[39m                                 Traceback (most recent call last)",
      "\u001b[36mCell\u001b[39m\u001b[36m \u001b[39m\u001b[32mIn[12]\u001b[39m\u001b[32m, line 1\u001b[39m\n\u001b[32m----> \u001b[39m\u001b[32m1\u001b[39m x = \u001b[43mfoo\u001b[49m\u001b[43m(\u001b[49m\u001b[43m)\u001b[49m\n",
      "\u001b[31mTypeError\u001b[39m: __init__() should return None, not 'str'"
     ]
    }
   ],
   "source": [
    "x = foo()"
   ]
  },
  {
   "cell_type": "code",
   "execution_count": 2,
   "id": "86ae7ad2",
   "metadata": {},
   "outputs": [],
   "source": [
    "class foo():\n",
    "    def __init__(self):\n",
    "        None"
   ]
  },
  {
   "cell_type": "code",
   "execution_count": 3,
   "id": "59892b29",
   "metadata": {},
   "outputs": [],
   "source": [
    "x=foo()"
   ]
  },
  {
   "cell_type": "code",
   "execution_count": 4,
   "id": "627ae4a5",
   "metadata": {},
   "outputs": [
    {
     "data": {
      "text/plain": [
       "<__main__.foo at 0x2b4c9aca510>"
      ]
     },
     "execution_count": 4,
     "metadata": {},
     "output_type": "execute_result"
    }
   ],
   "source": [
    "x"
   ]
  },
  {
   "cell_type": "code",
   "execution_count": null,
   "id": "b56b4241",
   "metadata": {},
   "outputs": [],
   "source": []
  },
  {
   "cell_type": "markdown",
   "id": "1c2de545",
   "metadata": {},
   "source": [
    "__init__\n",
    "__str__"
   ]
  },
  {
   "cell_type": "markdown",
   "id": "bf35d21f",
   "metadata": {},
   "source": [
    "issubclass"
   ]
  },
  {
   "cell_type": "code",
   "execution_count": null,
   "id": "7d793b95",
   "metadata": {},
   "outputs": [],
   "source": []
  }
 ],
 "metadata": {
  "kernelspec": {
   "display_name": "Python 3",
   "language": "python",
   "name": "python3"
  },
  "language_info": {
   "codemirror_mode": {
    "name": "ipython",
    "version": 3
   },
   "file_extension": ".py",
   "mimetype": "text/x-python",
   "name": "python",
   "nbconvert_exporter": "python",
   "pygments_lexer": "ipython3",
   "version": "3.14.0"
  }
 },
 "nbformat": 4,
 "nbformat_minor": 5
}
