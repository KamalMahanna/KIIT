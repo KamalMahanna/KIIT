{
 "cells": [
  {
   "cell_type": "code",
   "execution_count": 1,
   "id": "0084944e",
   "metadata": {},
   "outputs": [],
   "source": [
    "import numpy as np"
   ]
  },
  {
   "cell_type": "markdown",
   "id": "65a19e22",
   "metadata": {},
   "source": [
    "# Branching and Looping"
   ]
  },
  {
   "cell_type": "markdown",
   "id": "5b283d2e",
   "metadata": {},
   "source": [
    "1. Guess a number game"
   ]
  },
  {
   "cell_type": "code",
   "execution_count": 5,
   "metadata": {},
   "outputs": [
    {
     "name": "stdout",
     "output_type": "stream",
     "text": [
      "Welcome to the Guess a Number Game!\n",
      "          You have to guess a number between 1 and 5.\n",
      "Too high!\n",
      "Too low!\n",
      "Too high!\n",
      "Correct, The Computer's guess was 4. \n",
      "\n",
      "                  Congratulations! You've guessed the number in 4 attempts.\n"
     ]
    }
   ],
   "source": [
    "def guess_a_number_game():\n",
    "    print(\"\"\"Welcome to the Guess a Number Game!\n",
    "          You have to guess a number between 1 and 5.\"\"\")\n",
    "    computer_guess = np.random.randint(1, 5)\n",
    "    attempts = 0\n",
    "    while True:\n",
    "        user_guess = int(input(\"Guess the number: \"))\n",
    "        attempts += 1\n",
    "        if user_guess < computer_guess:\n",
    "            print(\"Too low!\")\n",
    "        elif user_guess > computer_guess:\n",
    "            print(\"Too high!\")\n",
    "        else:\n",
    "            print(f\"\"\"Correct, The Computer's guess was {computer_guess}. \n",
    "                  \n",
    "                  Congratulations! You've guessed the number in {attempts} attempts.\"\"\")\n",
    "            break\n",
    "\n",
    "guess_a_number_game()"
   ]
  },
  {
   "cell_type": "markdown",
   "id": "5bf963d5",
   "metadata": {},
   "source": [
    "2. Kids Multiplication Table"
   ]
  },
  {
   "cell_type": "code",
   "execution_count": 13,
   "id": "b6ac65e2",
   "metadata": {},
   "outputs": [
    {
     "name": "stdout",
     "output_type": "stream",
     "text": [
      "Right!\n",
      "Wrong. The answer is 81.\n",
      "Right!\n",
      "Right!\n",
      "Wrong. The answer is 42.\n",
      "Right!\n",
      "Wrong. The answer is 133.\n",
      "Right!\n",
      "Wrong. The answer is 108.\n",
      "Right!\n"
     ]
    }
   ],
   "source": [
    "def kids_multiplication_table():\n",
    "    for i in range(1, 11):\n",
    "        a,b = np.random.randint(2, 25), np.random.randint(1, 10)\n",
    "        print(\"Right!\" if int(input(f\"Question {i}: {a} x {b} = \")) == a * b else f\"Wrong. The answer is {a * b}.\")\n",
    "kids_multiplication_table()"
   ]
  },
  {
   "cell_type": "markdown",
   "id": "3d1b51ce",
   "metadata": {},
   "source": [
    "3. Check a list contains even numbers or not\n"
   ]
  },
  {
   "cell_type": "code",
   "execution_count": 15,
   "id": "d9112656",
   "metadata": {},
   "outputs": [
    {
     "data": {
      "text/plain": [
       "False"
      ]
     },
     "execution_count": 15,
     "metadata": {},
     "output_type": "execute_result"
    }
   ],
   "source": [
    "def contains_even_numbers(lst):\n",
    "    return any(x % 2 == 0 for x in lst)\n",
    "\n",
    "contains_even_numbers([11,33,55,39,55,75,37,21,23,41,13])"
   ]
  },
  {
   "cell_type": "markdown",
   "id": "851d6154",
   "metadata": {},
   "source": [
    "4. Read N and Fibonacci sequence upto N"
   ]
  },
  {
   "cell_type": "code",
   "execution_count": 17,
   "id": "1f3e30b1",
   "metadata": {},
   "outputs": [
    {
     "name": "stdout",
     "output_type": "stream",
     "text": [
      "0 1 1 2 3 5 8 13 21 34 "
     ]
    }
   ],
   "source": [
    "def fibonacci():\n",
    "    n = int(input('Enter the position of the Fibonacci sequence you want to see: '))\n",
    "    a, b = 0, 1\n",
    "    print(a,end=' ')\n",
    "    while b<=n:\n",
    "        print(b, end=' ')\n",
    "        a, b = b, a + b\n",
    "\n",
    "\n",
    "fibonacci()"
   ]
  },
  {
   "cell_type": "markdown",
   "id": "535bf3eb",
   "metadata": {},
   "source": [
    "5. Box like star with loop"
   ]
  },
  {
   "cell_type": "code",
   "execution_count": 21,
   "id": "e6f3d064",
   "metadata": {},
   "outputs": [
    {
     "name": "stdout",
     "output_type": "stream",
     "text": [
      "***************\n",
      "***************\n",
      "***************\n",
      "***************\n"
     ]
    }
   ],
   "source": [
    "def box_star():\n",
    "    w,h = int(input(\"Enter the width of the box: \")), int(input(\"Enter the height of the box: \"))\n",
    "    for i in range(h):\n",
    "        print('*'*w)\n",
    "        \n",
    "box_star()"
   ]
  },
  {
   "cell_type": "markdown",
   "id": "0c00e5c2",
   "metadata": {},
   "source": [
    "6. Blank box with loop"
   ]
  },
  {
   "cell_type": "code",
   "execution_count": 22,
   "metadata": {},
   "outputs": [
    {
     "name": "stdout",
     "output_type": "stream",
     "text": [
      "***************\n",
      "*             *\n",
      "*             *\n",
      "***************\n"
     ]
    }
   ],
   "source": [
    "def blank_box_star():\n",
    "    w,h = int(input(\"Enter the width of the box: \")), int(input(\"Enter the height of the box: \"))\n",
    "    for i in range(h):\n",
    "        if i==0 or i==h-1:\n",
    "            print('*'*w)\n",
    "        else:\n",
    "            print('*' + ' '*(w-2) + '*')\n",
    "\n",
    "blank_box_star()"
   ]
  },
  {
   "cell_type": "markdown",
   "id": "d4bd4dd2",
   "metadata": {},
   "source": [
    "7. For loop to create a diamond shape"
   ]
  },
  {
   "cell_type": "code",
   "execution_count": 31,
   "metadata": {},
   "outputs": [
    {
     "name": "stdout",
     "output_type": "stream",
     "text": [
      "   *\n",
      "  ***\n",
      " *****\n",
      "*******\n",
      " *****\n",
      "  ***\n",
      "   *\n"
     ]
    }
   ],
   "source": [
    "def diamond_star():\n",
    "    n = int(input(\"Enter how high you want the diamond to be: \"))\n",
    "    first_half = [' '*(n-i-1) + '*'*(2*i+1) for i in range(n)]\n",
    "    for i in first_half:\n",
    "        print(i)\n",
    "    for i in first_half[-2::-1]:\n",
    "        print(i)\n",
    "diamond_star()"
   ]
  },
  {
   "cell_type": "markdown",
   "id": "bea10751",
   "metadata": {},
   "source": [
    "8. Rock-Paper-Scissors with computer"
   ]
  },
  {
   "cell_type": "code",
   "execution_count": null,
   "metadata": {},
   "outputs": [],
   "source": [
    "def rock_paper_scissors():\n",
    "    choices = ['rock', 'paper', 'scissors']\n",
    "    computer_choice = np.random.choice(choices)\n",
    "    user_choice = input(\"Enter rock, paper, or scissors: \").lower()\n",
    "    if user_choice not in choices:\n",
    "        print(\"Invalid choice. Please choose rock, paper, or scissors.\")\n",
    "        return\n",
    "    print(f\"Computer chose: {computer_choice}\")\n",
    "    if user_choice == computer_choice:\n",
    "        print(\"It's a tie!\")\n",
    "    elif (user_choice == 'rock' and computer_choice == 'scissors') or"
   ]
  },
  {
   "cell_type": "code",
   "execution_count": null,
   "metadata": {},
   "outputs": [],
   "source": []
  },
  {
   "cell_type": "code",
   "execution_count": null,
   "metadata": {},
   "outputs": [],
   "source": []
  },
  {
   "cell_type": "code",
   "execution_count": null,
   "metadata": {},
   "outputs": [],
   "source": []
  },
  {
   "cell_type": "code",
   "execution_count": null,
   "metadata": {},
   "outputs": [],
   "source": []
  },
  {
   "cell_type": "code",
   "execution_count": null,
   "metadata": {},
   "outputs": [],
   "source": []
  },
  {
   "cell_type": "code",
   "execution_count": null,
   "metadata": {},
   "outputs": [],
   "source": []
  },
  {
   "cell_type": "code",
   "execution_count": null,
   "metadata": {},
   "outputs": [],
   "source": []
  },
  {
   "cell_type": "code",
   "execution_count": null,
   "id": "cea36f39",
   "metadata": {},
   "outputs": [],
   "source": []
  },
  {
   "cell_type": "code",
   "execution_count": null,
   "metadata": {},
   "outputs": [],
   "source": []
  },
  {
   "cell_type": "code",
   "execution_count": null,
   "id": "ffd53fd0",
   "metadata": {},
   "outputs": [],
   "source": []
  }
 ],
 "metadata": {
  "kernelspec": {
   "display_name": "base",
   "language": "python",
   "name": "python3"
  },
  "language_info": {
   "codemirror_mode": {
    "name": "ipython",
    "version": 3
   },
   "file_extension": ".py",
   "mimetype": "text/x-python",
   "name": "python",
   "nbconvert_exporter": "python",
   "pygments_lexer": "ipython3",
   "version": "3.13.5"
  }
 },
 "nbformat": 4,
 "nbformat_minor": 5
}
